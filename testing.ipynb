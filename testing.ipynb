{
 "cells": [
  {
   "cell_type": "code",
   "execution_count": 1,
   "id": "0faeff6c",
   "metadata": {},
   "outputs": [],
   "source": [
    "import numpy as np\n",
    "import matplotlib.pyplot as plt\n",
    "import math\n",
    "import seaborn as sns\n",
    "import scipy.stats"
   ]
  },
  {
   "cell_type": "code",
   "execution_count": 2,
   "id": "bff8f4a8",
   "metadata": {},
   "outputs": [],
   "source": [
    "def bipower_var(rt : np.array):\n",
    "    M = len(rt)\n",
    "    BV = (np.pi/2) * (M/(M-1)) * np.sum(np.abs(rt[1:] *np.abs(rt[:-1])))\n",
    "    return BV"
   ]
  },
  {
   "cell_type": "code",
   "execution_count": 4,
   "id": "bb6e91f5",
   "metadata": {},
   "outputs": [],
   "source": [
    "def realized_var(rt:np.array):\n",
    "    \"Calculate the realized variance of the returns\"\n",
    "    RV = np.sum(np.power(rt, 2))\n",
    "    return RV"
   ]
  },
  {
   "cell_type": "code",
   "execution_count": 12,
   "id": "5c6749d3",
   "metadata": {
    "collapsed": true
   },
   "outputs": [
    {
     "data": {
      "text/plain": [
       "[-0.21074159727414174,\n",
       " -1.1044000997053116,\n",
       " -1.3424276392939416,\n",
       " -0.32962718473497554,\n",
       " 1.6049603315461232,\n",
       " -0.011087742031443,\n",
       " -1.3053638983519704,\n",
       " 0.6860481838384568,\n",
       " 0.7158174257179848,\n",
       " 0.82421665649792,\n",
       " 1.7195513312271649,\n",
       " 0.17411978660357422,\n",
       " 0.12070564282836134,\n",
       " -0.01656467939477619,\n",
       " -1.3862651753305604]"
      ]
     },
     "execution_count": 12,
     "metadata": {},
     "output_type": "execute_result"
    }
   ],
   "source": [
    "x= list(np.random.normal(0,1,15))\n",
    "x\n",
    "\"\"\"\n",
    "[-0.21074159727414174,\n",
    " -1.1044000997053116,\n",
    " -1.3424276392939416,\n",
    " -0.32962718473497554,\n",
    " 1.6049603315461232,\n",
    " -0.011087742031443,\n",
    " -1.3053638983519704,\n",
    " 0.6860481838384568,\n",
    " 0.7158174257179848,\n",
    " 0.82421665649792,\n",
    " 1.7195513312271649,\n",
    " 0.17411978660357422,\n",
    " 0.12070564282836134,\n",
    " -0.01656467939477619,\n",
    " -1.3862651753305604]\n",
    "\"\"\""
   ]
  },
  {
   "cell_type": "code",
   "execution_count": 13,
   "id": "485f299c",
   "metadata": {},
   "outputs": [
    {
     "name": "stdout",
     "output_type": "stream",
     "text": [
      "14.041012812006516\n"
     ]
    }
   ],
   "source": [
    "print(realized_var(x))"
   ]
  },
  {
   "cell_type": "code",
   "execution_count": 15,
   "id": "862b1808",
   "metadata": {},
   "outputs": [
    {
     "name": "stdout",
     "output_type": "stream",
     "text": [
      "10.86948752224114\n"
     ]
    }
   ],
   "source": [
    "print(bipower_var(x))"
   ]
  },
  {
   "cell_type": "code",
   "execution_count": 29,
   "id": "76ba8590",
   "metadata": {},
   "outputs": [],
   "source": []
  },
  {
   "cell_type": "code",
   "execution_count": 30,
   "id": "252ac5b8",
   "metadata": {},
   "outputs": [
    {
     "data": {
      "text/plain": [
       "0.7933859402912534"
      ]
     },
     "execution_count": 30,
     "metadata": {},
     "output_type": "execute_result"
    }
   ],
   "source": []
  }
 ],
 "metadata": {
  "kernelspec": {
   "display_name": "Python 3 (ipykernel)",
   "language": "python",
   "name": "python3"
  },
  "language_info": {
   "codemirror_mode": {
    "name": "ipython",
    "version": 3
   },
   "file_extension": ".py",
   "mimetype": "text/x-python",
   "name": "python",
   "nbconvert_exporter": "python",
   "pygments_lexer": "ipython3",
   "version": "3.9.7"
  }
 },
 "nbformat": 4,
 "nbformat_minor": 5
}
