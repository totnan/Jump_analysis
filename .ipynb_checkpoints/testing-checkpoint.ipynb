{
 "cells": [
  {
   "cell_type": "code",
   "execution_count": 50,
   "id": "0faeff6c",
   "metadata": {},
   "outputs": [],
   "source": [
    "import numpy as np\n",
    "import matplotlib.pyplot as plt\n",
    "import math\n",
    "import seaborn as sns\n",
    "import scipy.stats"
   ]
  },
  {
   "cell_type": "code",
   "execution_count": 2,
   "id": "bff8f4a8",
   "metadata": {},
   "outputs": [],
   "source": [
    "def bipower_var(rt : np.array):\n",
    "    M = len(rt)\n",
    "    BV = (np.pi/2) * (M/(M-1)) * np.sum(np.abs(rt[1:] *np.abs(rt[:-1])))\n",
    "    return BV"
   ]
  },
  {
   "cell_type": "code",
   "execution_count": 4,
   "id": "bb6e91f5",
   "metadata": {},
   "outputs": [],
   "source": [
    "def realized_var(rt:np.array):\n",
    "    \"Calculate the realized variance of the returns\"\n",
    "    RV = np.sum(np.power(rt, 2))\n",
    "    return RV"
   ]
  },
  {
   "cell_type": "code",
   "execution_count": 67,
   "id": "5c6749d3",
   "metadata": {},
   "outputs": [],
   "source": [
    "x = np.array([-0.21074159727414174,\n",
    " -1.1044000997053116,\n",
    " -1.3424276392939416,\n",
    " -0.32962718473497554,\n",
    " 1.6049603315461232,\n",
    " -0.011087742031443,\n",
    " -1.3053638983519704,\n",
    " 0.6860481838384568,\n",
    " 0.7158174257179848,\n",
    " 0.82421665649792,\n",
    " 1.7195513312271649,\n",
    " 0.17411978660357422,\n",
    " 0.12070564282836134,\n",
    " -0.01656467939477619,\n",
    " -1.3862651753305604])\n"
   ]
  },
  {
   "cell_type": "code",
   "execution_count": 68,
   "id": "485f299c",
   "metadata": {},
   "outputs": [
    {
     "name": "stdout",
     "output_type": "stream",
     "text": [
      "14.041012812006516\n"
     ]
    }
   ],
   "source": [
    "print(realized_var(x))"
   ]
  },
  {
   "cell_type": "code",
   "execution_count": 69,
   "id": "862b1808",
   "metadata": {},
   "outputs": [
    {
     "name": "stdout",
     "output_type": "stream",
     "text": [
      "10.86948752224114\n"
     ]
    }
   ],
   "source": [
    "print(bipower_var(x))"
   ]
  },
  {
   "cell_type": "code",
   "execution_count": 76,
   "id": "eeab1d05",
   "metadata": {
    "collapsed": true
   },
   "outputs": [
    {
     "data": {
      "text/plain": [
       "[0.17998772641174687,\n",
       " 0.6868767936659956,\n",
       " 0.6679982446936172,\n",
       " 0.5475634450962705,\n",
       " 0.9453322153421873,\n",
       " 0.8914561331668261,\n",
       " 0.48261002431984956,\n",
       " 0.24003872930629733,\n",
       " 0.04650947057445132,\n",
       " 0.9058967540120662,\n",
       " 0.9030145294755312,\n",
       " 0.6328761724192994,\n",
       " 0.15074267855370016,\n",
       " 0.9425399161553213,\n",
       " 0.759293990486864]"
      ]
     },
     "execution_count": 76,
     "metadata": {},
     "output_type": "execute_result"
    }
   ],
   "source": [
    "list(np.random.uniform(size = 15))\n",
    "\"\"\"\n",
    "[0.17998772641174687,\n",
    " 0.6868767936659956,\n",
    " 0.6679982446936172,\n",
    " 0.5475634450962705,\n",
    " 0.9453322153421873,\n",
    " 0.8914561331668261,\n",
    " 0.48261002431984956,\n",
    " 0.24003872930629733,\n",
    " 0.04650947057445132,\n",
    " 0.9058967540120662,\n",
    " 0.9030145294755312,\n",
    " 0.6328761724192994,\n",
    " 0.15074267855370016,\n",
    " 0.9425399161553213,\n",
    " 0.759293990486864]\n",
    "\"\"\""
   ]
  },
  {
   "cell_type": "code",
   "execution_count": 113,
   "id": "76ba8590",
   "metadata": {},
   "outputs": [],
   "source": [
    "def ASJ(rt : np.array):\n",
    "    \"\"\"\n",
    "    Ait-Sahalia and Jacod (2008) \n",
    "    \n",
    "    Code source : Maneesoonthorn, Worapree, Gael M. Martin, and Catherine S. Forbes. \n",
    "                  \"High-frequency jump tests: Which test should we use?.\" Journal of econometrics 219.2 (2020): 478-487.\n",
    "    \"\"\"\n",
    "    M = len(rt)\n",
    "    K= 3\n",
    "    temp = np.multiply(np.abs(rt[:-1]), np.abs(rt[1:]))\n",
    "    Vti = np.zeros(M-K-1)\n",
    "    \n",
    "    for i in range(M-K-1):\n",
    "        Vti[i] = (np.pi/2) *(1/(K-1)) * np.sum(temp[i: i+K+1])\n",
    "\n",
    "    mp = 3\n",
    "    m2p = 105\n",
    "    Mpk = (16 * 2) * (2*4-2-1)/3\n",
    "\n",
    "    tempr = rt[M-len(Vti):M]\n",
    "    #Define M for further calculation\n",
    "    M = len(tempr)\n",
    "    rtk = tempr[1::2]\n",
    "    \n",
    "    Bhat = np.sum(np.abs(np.power(tempr,4)))\n",
    "    Bhatk = np.sum(np.abs(np.power(rtk,4)))\n",
    "    Shat = Bhat / Bhatk\n",
    "    \n",
    "    trunc = 3*np.sqrt(Vti*M)*((1/M)**0.48)\n",
    "    Ahat = (M/mp) * np.sum(np.abs(np.power(tempr,4)) * np.where(np.abs(tempr) < trunc,1,0))\n",
    "    Ahat2 = ((M**3)/m2p) * np.sum(np.abs(np.power(tempr,8)) * np.where(np.abs(tempr) < trunc,1,0))\n",
    "    \n",
    "    Sig = (1/M) * Mpk * Ahat2 / (Ahat**2)\n",
    "    test = (Shat - 2) /np.sqrt(Sig)\n",
    "    \n",
    "    return test"
   ]
  },
  {
   "cell_type": "code",
   "execution_count": 115,
   "id": "252ac5b8",
   "metadata": {},
   "outputs": [
    {
     "data": {
      "text/plain": [
       "28.265578494900545"
      ]
     },
     "execution_count": 115,
     "metadata": {},
     "output_type": "execute_result"
    }
   ],
   "source": [
    "ASJ(x)"
   ]
  },
  {
   "cell_type": "code",
   "execution_count": 98,
   "id": "17c45a07",
   "metadata": {},
   "outputs": [
    {
     "data": {
      "text/plain": [
       "30.179339583333334"
      ]
     },
     "execution_count": 98,
     "metadata": {},
     "output_type": "execute_result"
    }
   ],
   "source": [
    "np.var([0.2,0.555,12,5],ddof = 1)"
   ]
  }
 ],
 "metadata": {
  "kernelspec": {
   "display_name": "Python 3 (ipykernel)",
   "language": "python",
   "name": "python3"
  },
  "language_info": {
   "codemirror_mode": {
    "name": "ipython",
    "version": 3
   },
   "file_extension": ".py",
   "mimetype": "text/x-python",
   "name": "python",
   "nbconvert_exporter": "python",
   "pygments_lexer": "ipython3",
   "version": "3.9.7"
  }
 },
 "nbformat": 4,
 "nbformat_minor": 5
}
